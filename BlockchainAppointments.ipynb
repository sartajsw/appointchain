{
 "cells": [
  {
   "cell_type": "markdown",
   "metadata": {},
   "source": [
    "# AppointChain: \n",
    "### A blockchain based appointment system. For a decentralised and free alternative to individual apps for each host. User friendly so regular / non-tech savvy individuals can use it."
   ]
  },
  {
   "cell_type": "markdown",
   "metadata": {},
   "source": [
    "## Import libraries"
   ]
  },
  {
   "cell_type": "code",
   "execution_count": 520,
   "metadata": {},
   "outputs": [],
   "source": [
    "# Import libraries\n",
    "import json\n",
    "import hashlib\n",
    "import binascii\n",
    "from datetime import datetime\n",
    "from urllib.parse import  urlparse\n",
    "\n",
    "# Cryptography libraries\n",
    "import Crypto\n",
    "import Crypto.Random\n",
    "from Crypto.Hash import SHA\n",
    "from Crypto.PublicKey import RSA\n",
    "from Crypto.Signature import PKCS1_v1_5"
   ]
  },
  {
   "cell_type": "markdown",
   "metadata": {},
   "source": [
    "## Build a Wallet"
   ]
  },
  {
   "cell_type": "code",
   "execution_count": 521,
   "metadata": {},
   "outputs": [],
   "source": [
    "class Wallet(object):\n",
    "    \"\"\"\n",
    "    A wallet is a private/public key pair\n",
    "    Using RSA digital signature protocol\n",
    "    \"\"\"\n",
    "    def __init__(self):\n",
    "        random_gen = Crypto.Random.new().read\n",
    "        self.private_key = RSA.generate(1024, random_gen)\n",
    "        self.public_key = self.private_key.publickey()\n",
    "        self.signer = PKCS1_v1_5.new(self.private_key)\n",
    "\n",
    "\n",
    "    @property\n",
    "    def address(self):\n",
    "        \"\"\"\n",
    "        Assume public key is address\n",
    "        \"\"\"\n",
    "        # Get address from public key\n",
    "        address = self.public_key.exportKey(format='DER')\n",
    "        \n",
    "        return binascii.hexlify(address).decode('ascii')\n",
    "    \n",
    "    \n",
    "    def sign(self, message):\n",
    "        \"\"\"\n",
    "        Sign a message with this wallet\n",
    "        \"\"\"\n",
    "        message = message if type(message) == str else str(message)\n",
    "        # Hash message\n",
    "        h = SHA.new(message.encode('utf8'))\n",
    "        # Sign encoded message\n",
    "        signature = self.signer.sign(h)\n",
    "        \n",
    "        return binascii.hexlify(signature).decode('ascii')\n",
    "    \n",
    "    \n",
    "    def create_transaction(self, host_address, time_slot, amount):\n",
    "        \"\"\"\n",
    "        Create a transaction with the wallet\n",
    "        \"\"\"\n",
    "        # Get public key\n",
    "        public_key = self.public_key.exportKey(format='DER')\n",
    "        # Use public key as address\n",
    "        sender_address = binascii.hexlify(public_key).decode('ascii')\n",
    "        # Build transaction\n",
    "        trans_dict = {'sender_address': sender_address,\n",
    "                      'host_address': host_address,\n",
    "                      'time_slot': time_slot,\n",
    "                      'amount': amount}\n",
    "    \n",
    "        signature = self.sign(trans_dict)\n",
    "        \n",
    "        return {'message': trans_dict, 'signature': signature}\n",
    "    \n",
    "    \n",
    "    def show_appointments(self, blockchain):\n",
    "        \"\"\"\n",
    "        Show all booked appointments\n",
    "        \"\"\"\n",
    "        # Get completed transactions\n",
    "        completed_trans = []\n",
    "        for block in blockchain.chain:\n",
    "            for temp in block['transactions']:\n",
    "                completed_trans.append(temp['message'])\n",
    "        \n",
    "        # Get public key\n",
    "        public_key = self.public_key.exportKey(format='DER')\n",
    "        # Use public key as address\n",
    "        address = binascii.hexlify(public_key).decode('ascii')\n",
    "        \n",
    "        # Get the appointments\n",
    "        appointments = []\n",
    "        for completed_tran in completed_trans:\n",
    "            if completed_tran['sender_address'] == address:\n",
    "\n",
    "                # Get booked time slot\n",
    "                booked_slot = completed_tran['time_slot']\n",
    "                booked_slot = [time.strip() for time in booked_slot.split('-')]\n",
    "                \n",
    "                appointments.append(\" - \".join(booked_slot))\n",
    "                \n",
    "        return appointments"
   ]
  },
  {
   "cell_type": "markdown",
   "metadata": {},
   "source": [
    "## Build a Blockchain"
   ]
  },
  {
   "cell_type": "code",
   "execution_count": 522,
   "metadata": {},
   "outputs": [],
   "source": [
    "class Blockchain:\n",
    "    \"\"\"\n",
    "    Basic blockchain written in implemented in Python.\n",
    "    \"\"\"\n",
    "    \n",
    "    def __init__(self):\n",
    "        self.chain = [] # Holds all blocks in the chain\n",
    "        self.transactions = [] # To store transactions before adding to blockchain\n",
    "        self.create_block(proof = 1, previous_hash = '0') # Create genesis block\n",
    "        self.nodes = {} # Hold addresses of nodes\n",
    "        # Blockchain : [Location, Fee]\n",
    "        # Blocked requesters\n",
    "        \n",
    "    \n",
    "    def __repr__(self):\n",
    "        nodeid = id(self)\n",
    "        return f\"Blockchain Node ID: {nodeid}\"\n",
    "    \n",
    "    \n",
    "    def create_block(self, proof, previous_hash):\n",
    "        \"\"\"\n",
    "        Create a block and add it to the block chain\n",
    "        \"\"\"\n",
    "        block = {'index': len(self.chain)+1,\n",
    "                 'timestamp': str(datetime.now()),\n",
    "                 'proof': proof,\n",
    "                 'previous_hash': previous_hash,\n",
    "                 'transactions': self.transactions}\n",
    "        self.transactions = [] # Empty transactions\n",
    "        self.chain.append(block) # Append the block to the chain\n",
    "        return block\n",
    "\n",
    "\n",
    "    def get_previous_block(self):\n",
    "        \"\"\"\n",
    "        Get the previous block\n",
    "        \"\"\"\n",
    "        return self.chain[-1]\n",
    "\n",
    "\n",
    "    def proof_of_work(self, previous_proof):\n",
    "        \"\"\"\n",
    "        To find new proof of work (AKA nonce)\n",
    "        \"\"\"\n",
    "        # Define new proof\n",
    "        new_proof = 1\n",
    "        check_proof = False\n",
    "        \n",
    "        # Loop till prrof is found\n",
    "        while check_proof is False:\n",
    "            # Use a non  commutative equation with new and previous proof\n",
    "            # Find the hash of equation\n",
    "            hash_operation = hashlib.sha256(str(new_proof**2 - previous_proof**2).encode()).hexdigest()\n",
    "            \n",
    "            # Verify is suitable hash found\n",
    "            # Increase required number of 0's to increase difficulty\n",
    "            if hash_operation[:4] == '0000':\n",
    "                # Found proof, break loop\n",
    "                check_proof = True\n",
    "            else:\n",
    "                # Increment & try again\n",
    "                new_proof += 1\n",
    "        \n",
    "        # Return new proof\n",
    "        return new_proof\n",
    "\n",
    "\n",
    "    def hash(self, block):\n",
    "        \"\"\"\n",
    "        Return hash of the block\n",
    "        \"\"\"\n",
    "        # Convert the dict to json\n",
    "        # Encode to UTF-8\n",
    "        encoded_block = json.dumps(block, sort_keys = True).encode()\n",
    "        \n",
    "        # Hash the encoded block\n",
    "        # Returns the encoded data in hexadecimal format\n",
    "        return hashlib.sha256(encoded_block).hexdigest()\n",
    "\n",
    "\n",
    "    def is_chain_valid(self, chain):\n",
    "        \"\"\"\n",
    "        Check if chain is valid\n",
    "        \"\"\"\n",
    "        # Define previous block and index\n",
    "        previous_block = chain[0]\n",
    "        block_index = 1\n",
    "\n",
    "        # Loop through the blockchain\n",
    "        while block_index < len(chain):\n",
    "            # Get block\n",
    "            block = chain[block_index]\n",
    "\n",
    "            # Verify previous hash and block\n",
    "            if block['previous_hash'] != self.hash(previous_block):\n",
    "                return False\n",
    "\n",
    "            # Verify previous proof and proof\n",
    "            previous_proof = previous_block['proof']\n",
    "            new_proof = block['proof']\n",
    "            hash_operation = hashlib.sha256(str(new_proof**2 - previous_proof**2).encode()).hexdigest()\n",
    "\n",
    "            if hash_operation[:4] != '0000':\n",
    "                return False\n",
    "\n",
    "            # Increment and continue\n",
    "            previous_block = block\n",
    "            block_index += 1\n",
    "\n",
    "        # No errors found, return valid\n",
    "        return True\n",
    "\n",
    "\n",
    "    def validate_transaction(self, transaction):\n",
    "        \"\"\"\n",
    "        Check if transaction is valid\n",
    "        \"\"\"\n",
    "        # Get current transaction\n",
    "        trans = transaction['message']\n",
    "        address = trans['sender_address']\n",
    "        \n",
    "        # Verify signature\n",
    "        if self.verify_signature(address, transaction):\n",
    "            \n",
    "            # Get completed transactions\n",
    "            completed_trans = []\n",
    "            for block in self.chain:\n",
    "                for temp in block['transactions']:\n",
    "                    completed_trans.append(temp['message'])\n",
    "            \n",
    "            # Get time slot\n",
    "            if trans['amount'] > 0:\n",
    "                form = '%d/%m/%y %H:%M:%S'\n",
    "                time_slot = trans['time_slot']\n",
    "                start, end = [datetime.strptime(time.strip(), form) \n",
    "                              for time in time_slot.split('-')]\n",
    "    \n",
    "            \n",
    "            # Get amount\n",
    "            amount = trans['amount']\n",
    "            \n",
    "            balance = 0\n",
    "            for completed_tran in completed_trans:\n",
    "                if completed_tran['host_address'] == trans['host_address']:\n",
    "                    # Add amount to balance\n",
    "                    temp = completed_tran['amount']\n",
    "                    balance += temp if (temp > 0) else (-1)*temp\n",
    "                    \n",
    "                    # Get booked time slot\n",
    "                    if completed_tran['amount'] > 0:\n",
    "                        booked_slot = completed_tran['time_slot']\n",
    "                        booked_slot = [datetime.strptime(time.strip(), form) \n",
    "                                       for time in booked_slot.split('-')]\n",
    "                        \n",
    "                        # Overlapping slot\n",
    "                        if all([start <= x <= end for x in booked_slot]):\n",
    "                            # Invalid Transaction\n",
    "                            return False\n",
    "            \n",
    "            # Insufficient balance\n",
    "            if balance < amount:\n",
    "                # Invalid Transaction\n",
    "                return False\n",
    "            \n",
    "            # No issue\n",
    "            return True\n",
    "        \n",
    "        # Invalid Signature\n",
    "        return False\n",
    "        \n",
    "        \n",
    "    def add_transaction(self, transaction):\n",
    "        \"\"\"\n",
    "        Add transaction to the blockchain\n",
    "        \"\"\"\n",
    "        # Validate transaction \n",
    "        if self.validate_transaction(transaction):\n",
    "            \n",
    "            # Add the transaction\n",
    "            self.transactions.append(transaction)\n",
    "            \n",
    "            # Get previous block\n",
    "            previous_block = self.get_previous_block()\n",
    "            # Return index of new block\n",
    "            return previous_block['index'] + 1\n",
    "        \n",
    "        # Invalid Transaction\n",
    "        return None\n",
    "\n",
    "\n",
    "    def verify_signature(self, wallet_address, transaction):\n",
    "        \"\"\"\n",
    "        Check that the provided `signature` corresponds to `message`\n",
    "        signed by the wallet at `wallet_address`\n",
    "        \"\"\"\n",
    "        # Get message and signature from transaction\n",
    "        message = str(transaction['message'])\n",
    "        signature = transaction['signature']\n",
    "        \n",
    "        # Import public key from address\n",
    "        pubkey = RSA.importKey(binascii.unhexlify(wallet_address))\n",
    "        \n",
    "        # Verify message\n",
    "        verifier = PKCS1_v1_5.new(pubkey)\n",
    "        h = SHA.new(message.encode('utf8'))\n",
    "        return verifier.verify(h, binascii.unhexlify(signature))\n",
    "\n",
    "\n",
    "    def add_node(self, node):\n",
    "        \"\"\"\n",
    "        Add node to the network\n",
    "        \"\"\"\n",
    "        address = node['blockchain']\n",
    "        location = node['location']\n",
    "        fee = node['fee']\n",
    "        \n",
    "        # Add to nodes list\n",
    "        if address not in self.nodes.keys():\n",
    "            # Address not in nodes yet\n",
    "            self.nodes[address] = {'location': location,\n",
    "                                      'fee': fee}\n",
    "\n",
    "\n",
    "    def replace_chain(self):\n",
    "        \"\"\"\n",
    "        Consensus of our network\n",
    "        Check if you have the longest chain and replace chain if not\n",
    "        \"\"\"\n",
    "        # Get all nodes\n",
    "        network = self.nodes.keys()\n",
    "        longest_chain = None\n",
    "        \n",
    "        # Init max length as current length\n",
    "        max_length = len(self.chain)\n",
    "        \n",
    "        # Loop all nodes in the network\n",
    "        for node in network:\n",
    "            # Get chain\n",
    "            response = node.chain\n",
    "            \n",
    "            # Get chain and chain length\n",
    "            length = len(response)\n",
    "            chain = response\n",
    "\n",
    "            # Check lengths\n",
    "            if length > max_length and self.is_chain_valid(chain):\n",
    "                max_length = length\n",
    "                longest_chain = chain\n",
    "        \n",
    "        # Replace current chain with ongest chain\n",
    "        if longest_chain:\n",
    "            self.chain = longest_chain\n",
    "            return True\n",
    "        \n",
    "        # Not replaced\n",
    "        return False"
   ]
  },
  {
   "cell_type": "markdown",
   "metadata": {},
   "source": [
    "## Helper Functions"
   ]
  },
  {
   "cell_type": "markdown",
   "metadata": {},
   "source": [
    "### For Wallets"
   ]
  },
  {
   "cell_type": "code",
   "execution_count": 523,
   "metadata": {},
   "outputs": [],
   "source": [
    "def generate_wallet(wallet):\n",
    "    # Get wallet keys\n",
    "    public_key = wallet.public_key.exportKey(format = 'DER')\n",
    "    private_key = wallet.private_key.exportKey(format = 'DER')\n",
    "    \n",
    "    # Decode them to a readable form\n",
    "    public_key = binascii.hexlify(public_key).decode('ascii')\n",
    "    private_key = binascii.hexlify(private_key).decode('ascii')\n",
    "    \n",
    "    response = {'Public Key': public_key,\n",
    "                'Private Key': private_key,\n",
    "                'Wallet Address': public_key}\n",
    "    \n",
    "    return response\n",
    "\n",
    "\n",
    "def new_appointment(data, wallet, blockchain):    \n",
    "    # Transaction keys\n",
    "    transaction_keys = ['host_address', 'time_slot','amount']\n",
    "        \n",
    "    # Check if transaction has all keys\n",
    "    if not all (key in data for key in transaction_keys):\n",
    "    \t# Return response code\n",
    "        return \"Missing key\", 400\n",
    "    \n",
    "    # Create transaction\n",
    "    transaction = wallet.create_transaction(data['host_address'],\n",
    "                                            data['time_slot'],\n",
    "                                            data['amount'])\n",
    "    \n",
    "    # Should be broadcast to all nodes\n",
    "    # Loop over the network\n",
    "    for node in blockchain.nodes:\n",
    "        # Post the transaction to the node\n",
    "        node.add_transaction(transaction)\n",
    "\n",
    "    # Create a response\n",
    "    response = {'Message': 'New transaction created'}\n",
    "    return response\n",
    "\n",
    "\n",
    "def show_appointments(wallet, blockchain):\n",
    "    # Get booked appointments\n",
    "    appointments = wallet.show_appointments(blockchain)\n",
    "    \n",
    "    # Create a response\n",
    "    response = {'Message': 'Showing booked appointments',\n",
    "                'Appointments': appointments}\n",
    "    return response"
   ]
  },
  {
   "cell_type": "markdown",
   "metadata": {},
   "source": [
    "### For Blockchain"
   ]
  },
  {
   "cell_type": "code",
   "execution_count": 524,
   "metadata": {},
   "outputs": [],
   "source": [
    "def mine_block(wallet, blockchain):\n",
    "    # Get previous block and proof\n",
    "    previous_block = blockchain.get_previous_block()\n",
    "    previous_proof = previous_block['proof']\n",
    "\n",
    "    # Calculate proof of work\n",
    "    proof = blockchain.proof_of_work(previous_proof)\n",
    "    \n",
    "    # Calculate previous hash\n",
    "    previous_hash = blockchain.hash(previous_block)\n",
    "    \n",
    "    # Add the mining reward\n",
    "    temp = wallet.create_transaction(wallet.address, \"00:00\", -1)\n",
    "    \n",
    "    # Add transaction to the blockchain\n",
    "    blockchain.add_transaction(temp)\n",
    "    \n",
    "    # Add the block to the blockchain\n",
    "    block = blockchain.create_block(proof, previous_hash)\n",
    "\n",
    "    # Create response to send\n",
    "    response = {'Message': 'Congrats! You just mined a block.',\n",
    "                'index': block['index'],\n",
    "                'timestamp': block['timestamp'],\n",
    "                'proof': block['proof'],\n",
    "                'previous_hash': block['previous_hash'],\n",
    "                'transactions': block['transactions']}\n",
    "\n",
    "    return response\n",
    "\n",
    "\n",
    "def get_chain(blockchain):\n",
    "    # Get chain\n",
    "    response = {'chain': blockchain.chain,\n",
    "                'length': len(blockchain.chain)}\n",
    "\n",
    "    return response\n",
    "\n",
    "\n",
    "def chain_valid(blockchain):\n",
    "    # Verify the blockchain\n",
    "    is_valid = blockchain.is_chain_valid(blockchain.chain)\n",
    "\n",
    "    # Create response\n",
    "    if is_valid:\n",
    "        response = {'Message': 'Yes'}\n",
    "    else:\n",
    "        response = {'Message': 'No'}\n",
    "        \n",
    "    return response\n",
    "\n",
    "\n",
    "def add_transaction(data, blockchain):\n",
    "    # Transaction keys\n",
    "    transaction_keys = ['transaction']\n",
    "        \n",
    "    # Check if transaction has all keys\n",
    "    if not all (key in data for key in transaction_keys):\n",
    "    \t# Return response code\n",
    "        return \"Missing key\", 400\n",
    "    \n",
    "    # Add transaction to the blockchain\n",
    "    index = blockchain.add_transactions(data['transaction'])\n",
    "\n",
    "    # Create a response\n",
    "    response = {'Message': 'This transactions will be added', 'Index': index}\n",
    "    return response\n",
    "\n",
    "\n",
    "def connect_nodes(data, blockchain):\n",
    "    # Nodes currently in the network\n",
    "    nodes = data[\"nodes\"]\n",
    "\n",
    "    # If there are no nodes in the network\n",
    "    if nodes is None:\n",
    "        return \"No nodes\", 400\n",
    "\n",
    "    # Loop over all nodes in the network\n",
    "    for node in nodes:\n",
    "        # Send new node address to all nodes\n",
    "        blockchain.add_node(node)\n",
    "\n",
    "    # Create response\n",
    "    response = {'Message': 'All nodes connected. The nodes are: ',\n",
    "                'total_nodes': list(blockchain.nodes)}\n",
    "\n",
    "    return response\n",
    "\n",
    "\n",
    "def replace_chain(blockchain):\n",
    "    # Replace the chain\n",
    "    is_chain_replaced = blockchain.replace_chain()\n",
    "    \n",
    "    # If chain has been replaced\n",
    "    # Create response\n",
    "    if is_chain_replaced:\n",
    "        response = {'message': 'The nodes had different chains so the chain was replaced by the longest one.',\n",
    "                    'new_chain': blockchain.chain}\n",
    "    else:\n",
    "        response = {'message': 'All good. The chain is the largest one.',\n",
    "                    'actual_chain': blockchain.chain}\n",
    "    return response\n",
    "\n",
    "\n",
    "def show_trans(blockchain):\n",
    "    # Show all transactions\n",
    "    response = {'message': 'Showing all unconfirmed transactions',\n",
    "                'transactions': blockchain.transactions}\n",
    "    \n",
    "    return response\n",
    "\n",
    "\n",
    "def show_hosts(blockchain):\n",
    "    # Get nodes\n",
    "    nodes = blockchain.nodes\n",
    "    locations = [node[0] for node in nodes if node[0] != \"0,0\"]\n",
    "    \n",
    "    # Create a response\n",
    "    response = {'Message': 'Showing all host locations',\n",
    "                'Locations': locations}\n",
    "    return response"
   ]
  },
  {
   "cell_type": "markdown",
   "metadata": {},
   "source": [
    "## Create Nodes"
   ]
  },
  {
   "cell_type": "markdown",
   "metadata": {},
   "source": [
    "### Node 1"
   ]
  },
  {
   "cell_type": "code",
   "execution_count": 525,
   "metadata": {},
   "outputs": [],
   "source": [
    "b1 = Blockchain()\n",
    "w1 = Wallet()"
   ]
  },
  {
   "cell_type": "markdown",
   "metadata": {},
   "source": [
    "### Node 2"
   ]
  },
  {
   "cell_type": "code",
   "execution_count": 526,
   "metadata": {},
   "outputs": [],
   "source": [
    "b2 = Blockchain()\n",
    "w2 = Wallet()"
   ]
  },
  {
   "cell_type": "markdown",
   "metadata": {},
   "source": [
    "### Node 3"
   ]
  },
  {
   "cell_type": "code",
   "execution_count": 527,
   "metadata": {},
   "outputs": [],
   "source": [
    "b3 = Blockchain()\n",
    "w3 = Wallet()"
   ]
  },
  {
   "cell_type": "markdown",
   "metadata": {},
   "source": [
    "#### Consider Node 1 and Node 2 as full nodes (miners) and Node 3 as a client"
   ]
  },
  {
   "cell_type": "markdown",
   "metadata": {},
   "source": [
    "## Connect all nodes"
   ]
  },
  {
   "cell_type": "code",
   "execution_count": 528,
   "metadata": {},
   "outputs": [],
   "source": [
    "import pprint\n",
    "pp = pprint.PrettyPrinter(indent=4)"
   ]
  },
  {
   "cell_type": "code",
   "execution_count": 529,
   "metadata": {},
   "outputs": [],
   "source": [
    "nodes = {\"nodes\": [{\"blockchain\": b1, \"location\": \"4,2\", \"fee\": 0.25},\n",
    "                   {\"blockchain\": b2, \"location\": \"3,1\", \"fee\": 0.2},\n",
    "                   {\"blockchain\": b3, \"location\": \"0,0\", \"fee\": 0}]}"
   ]
  },
  {
   "cell_type": "code",
   "execution_count": 530,
   "metadata": {},
   "outputs": [
    {
     "name": "stdout",
     "output_type": "stream",
     "text": [
      "{   'Message': 'All nodes connected. The nodes are: ',\n",
      "    'total_nodes': [   Blockchain Node ID: 140105931038528,\n",
      "                       Blockchain Node ID: 140105929855760,\n",
      "                       Blockchain Node ID: 140105931674144]}\n"
     ]
    }
   ],
   "source": [
    "response = connect_nodes(nodes, b1)\n",
    "pp.pprint(response)"
   ]
  },
  {
   "cell_type": "code",
   "execution_count": 531,
   "metadata": {},
   "outputs": [
    {
     "name": "stdout",
     "output_type": "stream",
     "text": [
      "{   'Message': 'All nodes connected. The nodes are: ',\n",
      "    'total_nodes': [   Blockchain Node ID: 140105931038528,\n",
      "                       Blockchain Node ID: 140105929855760,\n",
      "                       Blockchain Node ID: 140105931674144]}\n"
     ]
    }
   ],
   "source": [
    "response = connect_nodes(nodes, b2)\n",
    "pp.pprint(response)"
   ]
  },
  {
   "cell_type": "code",
   "execution_count": 532,
   "metadata": {},
   "outputs": [
    {
     "name": "stdout",
     "output_type": "stream",
     "text": [
      "{   'Message': 'All nodes connected. The nodes are: ',\n",
      "    'total_nodes': [   Blockchain Node ID: 140105931038528,\n",
      "                       Blockchain Node ID: 140105929855760,\n",
      "                       Blockchain Node ID: 140105931674144]}\n"
     ]
    }
   ],
   "source": [
    "response = connect_nodes(nodes, b3)\n",
    "pp.pprint(response)"
   ]
  },
  {
   "cell_type": "markdown",
   "metadata": {},
   "source": [
    "## Generate Wallet"
   ]
  },
  {
   "cell_type": "code",
   "execution_count": 533,
   "metadata": {},
   "outputs": [
    {
     "name": "stdout",
     "output_type": "stream",
     "text": [
      "{   'Private Key': '3082025d02010002818100888fc7ec7413a13a1ccafd209e96980b58cfc45dd9f328fa0da2f4a9f666cc1dfa95e2f98579210674b11569709f7274a743b9fea861955640eb7afc1baf7b10f4a03e75038039ba57a33ebb27e003890cb983c8e6d7f120799a3ce03393acf8ec391dc8ebe6a9459ce7c8468810152f8898330eaa14a4acc494a425279684f902030100010281805388e839aad3ab271a1fcd715bb130f697f017e57501fa49e37790043bb6ac1b968283623114647047875f5aad4acbbfb1e58aebcce24c7083abc80259892154dc1dfa3271bee4568b957dda81dcdf4d63c1aae143db9b8dcd2eb9e487b1859d19e322dd8ea5388bb674880321db63d21749df6f596eef98fa5b8edc8bdc54d1024100b9c6d7e94ac47ae941486ea055e59ce86a71555145874841234e2d8686c207499aa219ac3a6fad22586ebdb7b894994bfb5cec2186128b453c97343337e6a66d024100bc2e83c89c49f67a9941c094b6ca98863db63605aa2279988535cc71d91277a890d3aec2f4f1e277a152176054424009c51b826f2173ba520e5b3c9d8b1e313d024100b8b315d48e8e3b790e7bb9e8d49d9d5b81003e87b7ada14b89935f35c162c4a60c041fac18c91103f591dc32fd6357e9aff61999d6d736f9d61caa3c45d69e1d024100828b623090fb5e59be67b6c973e527da3885670496fa43906318e733337b74372401358359995399d9f7b0efca840b18bbfc5187f694e9f472b12863c256b7a10240346a379d586450e8567939fc6550b43985e8e689d428e40ddd8f4a5933ae683c2b3ad47efa0aef3762fb237886118019d371a882bd34a77cc1a8724ea00f522c',\n",
      "    'Public Key': '30819f300d06092a864886f70d010101050003818d0030818902818100888fc7ec7413a13a1ccafd209e96980b58cfc45dd9f328fa0da2f4a9f666cc1dfa95e2f98579210674b11569709f7274a743b9fea861955640eb7afc1baf7b10f4a03e75038039ba57a33ebb27e003890cb983c8e6d7f120799a3ce03393acf8ec391dc8ebe6a9459ce7c8468810152f8898330eaa14a4acc494a425279684f90203010001',\n",
      "    'Wallet Address': '30819f300d06092a864886f70d010101050003818d0030818902818100888fc7ec7413a13a1ccafd209e96980b58cfc45dd9f328fa0da2f4a9f666cc1dfa95e2f98579210674b11569709f7274a743b9fea861955640eb7afc1baf7b10f4a03e75038039ba57a33ebb27e003890cb983c8e6d7f120799a3ce03393acf8ec391dc8ebe6a9459ce7c8468810152f8898330eaa14a4acc494a425279684f90203010001'}\n"
     ]
    }
   ],
   "source": [
    "response = generate_wallet(w3)\n",
    "pp.pprint(response)"
   ]
  },
  {
   "cell_type": "markdown",
   "metadata": {},
   "source": [
    "## Create Chains"
   ]
  },
  {
   "cell_type": "code",
   "execution_count": 534,
   "metadata": {},
   "outputs": [
    {
     "name": "stdout",
     "output_type": "stream",
     "text": [
      "{   'chain': [   {   'index': 1,\n",
      "                     'previous_hash': '0',\n",
      "                     'proof': 1,\n",
      "                     'timestamp': '2020-06-09 23:24:55.365240',\n",
      "                     'transactions': []}],\n",
      "    'length': 1}\n"
     ]
    }
   ],
   "source": [
    "response = get_chain(b1)\n",
    "pp.pprint(response)"
   ]
  },
  {
   "cell_type": "code",
   "execution_count": 535,
   "metadata": {},
   "outputs": [
    {
     "name": "stdout",
     "output_type": "stream",
     "text": [
      "{   'chain': [   {   'index': 1,\n",
      "                     'previous_hash': '0',\n",
      "                     'proof': 1,\n",
      "                     'timestamp': '2020-06-09 23:24:55.757112',\n",
      "                     'transactions': []}],\n",
      "    'length': 1}\n"
     ]
    }
   ],
   "source": [
    "response = get_chain(b2)\n",
    "pp.pprint(response)"
   ]
  },
  {
   "cell_type": "code",
   "execution_count": 536,
   "metadata": {},
   "outputs": [
    {
     "name": "stdout",
     "output_type": "stream",
     "text": [
      "{   'chain': [   {   'index': 1,\n",
      "                     'previous_hash': '0',\n",
      "                     'proof': 1,\n",
      "                     'timestamp': '2020-06-09 23:24:56.060332',\n",
      "                     'transactions': []}],\n",
      "    'length': 1}\n"
     ]
    }
   ],
   "source": [
    "response = get_chain(b3)\n",
    "pp.pprint(response)"
   ]
  },
  {
   "cell_type": "markdown",
   "metadata": {},
   "source": [
    "## Mine a Block"
   ]
  },
  {
   "cell_type": "code",
   "execution_count": 537,
   "metadata": {},
   "outputs": [
    {
     "name": "stdout",
     "output_type": "stream",
     "text": [
      "{   'Message': 'Congrats! You just mined a block.',\n",
      "    'index': 2,\n",
      "    'previous_hash': '4badd8f8d185e27b144ca3edd59c4702a5a4f884a49c59962f3a4d140ce08074',\n",
      "    'proof': 533,\n",
      "    'timestamp': '2020-06-09 23:24:58.228445',\n",
      "    'transactions': [   {   'message': {   'amount': -1,\n",
      "                                           'host_address': '30819f300d06092a864886f70d010101050003818d00308189028181009b88a7bc94eb3c268bdef83b04bfd4b866a332de46a692eddcd12958e24a5ed29b7c18254686a3193668be69cea616361203efe61a3356f545c417c694ccc875c0d7eb174c86be0f23940c21cd707b451152249becbdbd9875a58e98e375ac0ed738254ba6c2a03d780fe38b457f82eefecae230b161618e04ba32f811de07150203010001',\n",
      "                                           'sender_address': '30819f300d06092a864886f70d010101050003818d00308189028181009b88a7bc94eb3c268bdef83b04bfd4b866a332de46a692eddcd12958e24a5ed29b7c18254686a3193668be69cea616361203efe61a3356f545c417c694ccc875c0d7eb174c86be0f23940c21cd707b451152249becbdbd9875a58e98e375ac0ed738254ba6c2a03d780fe38b457f82eefecae230b161618e04ba32f811de07150203010001',\n",
      "                                           'time_slot': '00:00'},\n",
      "                            'signature': '3a002090bb11d58dc777878b59dffffaf8520f8d3ad6dcbc46ee3a7d5d367adf46d9e59e8ec12ba23be6776788003dca328682ff3b5471bd67603ebe70afec1693a2963ecafae730b0189ed560362e1eaacb78bfb45deb71bca8914c69604c99b19b594016b1a531f550faa4cf2e513c08fd9e727e24b6a6c042fba51e34ba3c'}]}\n"
     ]
    }
   ],
   "source": [
    "response = mine_block(w1, b1)\n",
    "pp.pprint(response)"
   ]
  },
  {
   "cell_type": "markdown",
   "metadata": {},
   "source": [
    "## Consensus/Replace Chain"
   ]
  },
  {
   "cell_type": "code",
   "execution_count": 538,
   "metadata": {},
   "outputs": [
    {
     "name": "stdout",
     "output_type": "stream",
     "text": [
      "{   'actual_chain': [   {   'index': 1,\n",
      "                            'previous_hash': '0',\n",
      "                            'proof': 1,\n",
      "                            'timestamp': '2020-06-09 23:24:55.365240',\n",
      "                            'transactions': []},\n",
      "                        {   'index': 2,\n",
      "                            'previous_hash': '4badd8f8d185e27b144ca3edd59c4702a5a4f884a49c59962f3a4d140ce08074',\n",
      "                            'proof': 533,\n",
      "                            'timestamp': '2020-06-09 23:24:58.228445',\n",
      "                            'transactions': [   {   'message': {   'amount': -1,\n",
      "                                                                   'host_address': '30819f300d06092a864886f70d010101050003818d00308189028181009b88a7bc94eb3c268bdef83b04bfd4b866a332de46a692eddcd12958e24a5ed29b7c18254686a3193668be69cea616361203efe61a3356f545c417c694ccc875c0d7eb174c86be0f23940c21cd707b451152249becbdbd9875a58e98e375ac0ed738254ba6c2a03d780fe38b457f82eefecae230b161618e04ba32f811de07150203010001',\n",
      "                                                                   'sender_address': '30819f300d06092a864886f70d010101050003818d00308189028181009b88a7bc94eb3c268bdef83b04bfd4b866a332de46a692eddcd12958e24a5ed29b7c18254686a3193668be69cea616361203efe61a3356f545c417c694ccc875c0d7eb174c86be0f23940c21cd707b451152249becbdbd9875a58e98e375ac0ed738254ba6c2a03d780fe38b457f82eefecae230b161618e04ba32f811de07150203010001',\n",
      "                                                                   'time_slot': '00:00'},\n",
      "                                                    'signature': '3a002090bb11d58dc777878b59dffffaf8520f8d3ad6dcbc46ee3a7d5d367adf46d9e59e8ec12ba23be6776788003dca328682ff3b5471bd67603ebe70afec1693a2963ecafae730b0189ed560362e1eaacb78bfb45deb71bca8914c69604c99b19b594016b1a531f550faa4cf2e513c08fd9e727e24b6a6c042fba51e34ba3c'}]}],\n",
      "    'message': 'All good. The chain is the largest one.'}\n"
     ]
    }
   ],
   "source": [
    "response = replace_chain(b1)\n",
    "pp.pprint(response)"
   ]
  },
  {
   "cell_type": "code",
   "execution_count": 539,
   "metadata": {},
   "outputs": [
    {
     "name": "stdout",
     "output_type": "stream",
     "text": [
      "{   'message': 'The nodes had different chains so the chain was replaced by '\n",
      "               'the longest one.',\n",
      "    'new_chain': [   {   'index': 1,\n",
      "                         'previous_hash': '0',\n",
      "                         'proof': 1,\n",
      "                         'timestamp': '2020-06-09 23:24:55.365240',\n",
      "                         'transactions': []},\n",
      "                     {   'index': 2,\n",
      "                         'previous_hash': '4badd8f8d185e27b144ca3edd59c4702a5a4f884a49c59962f3a4d140ce08074',\n",
      "                         'proof': 533,\n",
      "                         'timestamp': '2020-06-09 23:24:58.228445',\n",
      "                         'transactions': [   {   'message': {   'amount': -1,\n",
      "                                                                'host_address': '30819f300d06092a864886f70d010101050003818d00308189028181009b88a7bc94eb3c268bdef83b04bfd4b866a332de46a692eddcd12958e24a5ed29b7c18254686a3193668be69cea616361203efe61a3356f545c417c694ccc875c0d7eb174c86be0f23940c21cd707b451152249becbdbd9875a58e98e375ac0ed738254ba6c2a03d780fe38b457f82eefecae230b161618e04ba32f811de07150203010001',\n",
      "                                                                'sender_address': '30819f300d06092a864886f70d010101050003818d00308189028181009b88a7bc94eb3c268bdef83b04bfd4b866a332de46a692eddcd12958e24a5ed29b7c18254686a3193668be69cea616361203efe61a3356f545c417c694ccc875c0d7eb174c86be0f23940c21cd707b451152249becbdbd9875a58e98e375ac0ed738254ba6c2a03d780fe38b457f82eefecae230b161618e04ba32f811de07150203010001',\n",
      "                                                                'time_slot': '00:00'},\n",
      "                                                 'signature': '3a002090bb11d58dc777878b59dffffaf8520f8d3ad6dcbc46ee3a7d5d367adf46d9e59e8ec12ba23be6776788003dca328682ff3b5471bd67603ebe70afec1693a2963ecafae730b0189ed560362e1eaacb78bfb45deb71bca8914c69604c99b19b594016b1a531f550faa4cf2e513c08fd9e727e24b6a6c042fba51e34ba3c'}]}]}\n"
     ]
    }
   ],
   "source": [
    "response = replace_chain(b2)\n",
    "pp.pprint(response)"
   ]
  },
  {
   "cell_type": "code",
   "execution_count": 540,
   "metadata": {},
   "outputs": [
    {
     "name": "stdout",
     "output_type": "stream",
     "text": [
      "{   'message': 'The nodes had different chains so the chain was replaced by '\n",
      "               'the longest one.',\n",
      "    'new_chain': [   {   'index': 1,\n",
      "                         'previous_hash': '0',\n",
      "                         'proof': 1,\n",
      "                         'timestamp': '2020-06-09 23:24:55.365240',\n",
      "                         'transactions': []},\n",
      "                     {   'index': 2,\n",
      "                         'previous_hash': '4badd8f8d185e27b144ca3edd59c4702a5a4f884a49c59962f3a4d140ce08074',\n",
      "                         'proof': 533,\n",
      "                         'timestamp': '2020-06-09 23:24:58.228445',\n",
      "                         'transactions': [   {   'message': {   'amount': -1,\n",
      "                                                                'host_address': '30819f300d06092a864886f70d010101050003818d00308189028181009b88a7bc94eb3c268bdef83b04bfd4b866a332de46a692eddcd12958e24a5ed29b7c18254686a3193668be69cea616361203efe61a3356f545c417c694ccc875c0d7eb174c86be0f23940c21cd707b451152249becbdbd9875a58e98e375ac0ed738254ba6c2a03d780fe38b457f82eefecae230b161618e04ba32f811de07150203010001',\n",
      "                                                                'sender_address': '30819f300d06092a864886f70d010101050003818d00308189028181009b88a7bc94eb3c268bdef83b04bfd4b866a332de46a692eddcd12958e24a5ed29b7c18254686a3193668be69cea616361203efe61a3356f545c417c694ccc875c0d7eb174c86be0f23940c21cd707b451152249becbdbd9875a58e98e375ac0ed738254ba6c2a03d780fe38b457f82eefecae230b161618e04ba32f811de07150203010001',\n",
      "                                                                'time_slot': '00:00'},\n",
      "                                                 'signature': '3a002090bb11d58dc777878b59dffffaf8520f8d3ad6dcbc46ee3a7d5d367adf46d9e59e8ec12ba23be6776788003dca328682ff3b5471bd67603ebe70afec1693a2963ecafae730b0189ed560362e1eaacb78bfb45deb71bca8914c69604c99b19b594016b1a531f550faa4cf2e513c08fd9e727e24b6a6c042fba51e34ba3c'}]}]}\n"
     ]
    }
   ],
   "source": [
    "response = replace_chain(b3)\n",
    "pp.pprint(response)"
   ]
  },
  {
   "cell_type": "markdown",
   "metadata": {},
   "source": [
    "## Validate Chain"
   ]
  },
  {
   "cell_type": "code",
   "execution_count": 541,
   "metadata": {},
   "outputs": [
    {
     "name": "stdout",
     "output_type": "stream",
     "text": [
      "{'Message': 'Yes'}\n"
     ]
    }
   ],
   "source": [
    "response = chain_valid(b1)\n",
    "pp.pprint(response)"
   ]
  },
  {
   "cell_type": "code",
   "execution_count": 542,
   "metadata": {},
   "outputs": [
    {
     "name": "stdout",
     "output_type": "stream",
     "text": [
      "{'Message': 'Yes'}\n"
     ]
    }
   ],
   "source": [
    "response = chain_valid(b2)\n",
    "pp.pprint(response)"
   ]
  },
  {
   "cell_type": "code",
   "execution_count": 543,
   "metadata": {},
   "outputs": [
    {
     "name": "stdout",
     "output_type": "stream",
     "text": [
      "{'Message': 'Yes'}\n"
     ]
    }
   ],
   "source": [
    "response = chain_valid(b3)\n",
    "pp.pprint(response)"
   ]
  },
  {
   "cell_type": "markdown",
   "metadata": {},
   "source": [
    "## Create New Appointment"
   ]
  },
  {
   "cell_type": "code",
   "execution_count": 544,
   "metadata": {},
   "outputs": [],
   "source": [
    "data = {\"host_address\": w1.address,\n",
    "        \"time_slot\": \"10/06/20 16:30:00 - 10/06/20 17:00:00\",\n",
    "        \"amount\": 0.5}"
   ]
  },
  {
   "cell_type": "code",
   "execution_count": 545,
   "metadata": {},
   "outputs": [
    {
     "name": "stdout",
     "output_type": "stream",
     "text": [
      "{'Message': 'New transaction created'}\n"
     ]
    }
   ],
   "source": [
    "response = new_appointment(data, w3, b3)\n",
    "pp.pprint(response)"
   ]
  },
  {
   "cell_type": "markdown",
   "metadata": {},
   "source": [
    "## Show all Unconfirmed Transaction"
   ]
  },
  {
   "cell_type": "code",
   "execution_count": 546,
   "metadata": {},
   "outputs": [
    {
     "name": "stdout",
     "output_type": "stream",
     "text": [
      "{   'message': 'Showing all unconfirmed transactions',\n",
      "    'transactions': [   {   'message': {   'amount': 0.5,\n",
      "                                           'host_address': '30819f300d06092a864886f70d010101050003818d00308189028181009b88a7bc94eb3c268bdef83b04bfd4b866a332de46a692eddcd12958e24a5ed29b7c18254686a3193668be69cea616361203efe61a3356f545c417c694ccc875c0d7eb174c86be0f23940c21cd707b451152249becbdbd9875a58e98e375ac0ed738254ba6c2a03d780fe38b457f82eefecae230b161618e04ba32f811de07150203010001',\n",
      "                                           'sender_address': '30819f300d06092a864886f70d010101050003818d0030818902818100888fc7ec7413a13a1ccafd209e96980b58cfc45dd9f328fa0da2f4a9f666cc1dfa95e2f98579210674b11569709f7274a743b9fea861955640eb7afc1baf7b10f4a03e75038039ba57a33ebb27e003890cb983c8e6d7f120799a3ce03393acf8ec391dc8ebe6a9459ce7c8468810152f8898330eaa14a4acc494a425279684f90203010001',\n",
      "                                           'time_slot': '10/06/20 16:30:00 - '\n",
      "                                                        '10/06/20 17:00:00'},\n",
      "                            'signature': '5c6f611ace886b726c141ad1d9a3a713040bec692aea43a76f9e499ed5869c5a3a743c323d375c1eeb5d65f3e3929189f330543080675b076671e2df257c7d1dee85e88611e960447c7e80d342240af9c06d8a5daa913e68862ea8c25a0c97c18ad7ec7c98dd0d33cf78284b13997c08815e0e07d9dbe09ff30feb979223ed28'}]}\n"
     ]
    }
   ],
   "source": [
    "response = show_trans(b1)\n",
    "pp.pprint(response)"
   ]
  },
  {
   "cell_type": "code",
   "execution_count": 547,
   "metadata": {},
   "outputs": [
    {
     "name": "stdout",
     "output_type": "stream",
     "text": [
      "{   'message': 'Showing all unconfirmed transactions',\n",
      "    'transactions': [   {   'message': {   'amount': 0.5,\n",
      "                                           'host_address': '30819f300d06092a864886f70d010101050003818d00308189028181009b88a7bc94eb3c268bdef83b04bfd4b866a332de46a692eddcd12958e24a5ed29b7c18254686a3193668be69cea616361203efe61a3356f545c417c694ccc875c0d7eb174c86be0f23940c21cd707b451152249becbdbd9875a58e98e375ac0ed738254ba6c2a03d780fe38b457f82eefecae230b161618e04ba32f811de07150203010001',\n",
      "                                           'sender_address': '30819f300d06092a864886f70d010101050003818d0030818902818100888fc7ec7413a13a1ccafd209e96980b58cfc45dd9f328fa0da2f4a9f666cc1dfa95e2f98579210674b11569709f7274a743b9fea861955640eb7afc1baf7b10f4a03e75038039ba57a33ebb27e003890cb983c8e6d7f120799a3ce03393acf8ec391dc8ebe6a9459ce7c8468810152f8898330eaa14a4acc494a425279684f90203010001',\n",
      "                                           'time_slot': '10/06/20 16:30:00 - '\n",
      "                                                        '10/06/20 17:00:00'},\n",
      "                            'signature': '5c6f611ace886b726c141ad1d9a3a713040bec692aea43a76f9e499ed5869c5a3a743c323d375c1eeb5d65f3e3929189f330543080675b076671e2df257c7d1dee85e88611e960447c7e80d342240af9c06d8a5daa913e68862ea8c25a0c97c18ad7ec7c98dd0d33cf78284b13997c08815e0e07d9dbe09ff30feb979223ed28'}]}\n"
     ]
    }
   ],
   "source": [
    "response = show_trans(b2)\n",
    "pp.pprint(response)"
   ]
  },
  {
   "cell_type": "code",
   "execution_count": 548,
   "metadata": {
    "scrolled": true
   },
   "outputs": [
    {
     "name": "stdout",
     "output_type": "stream",
     "text": [
      "{   'message': 'Showing all unconfirmed transactions',\n",
      "    'transactions': [   {   'message': {   'amount': 0.5,\n",
      "                                           'host_address': '30819f300d06092a864886f70d010101050003818d00308189028181009b88a7bc94eb3c268bdef83b04bfd4b866a332de46a692eddcd12958e24a5ed29b7c18254686a3193668be69cea616361203efe61a3356f545c417c694ccc875c0d7eb174c86be0f23940c21cd707b451152249becbdbd9875a58e98e375ac0ed738254ba6c2a03d780fe38b457f82eefecae230b161618e04ba32f811de07150203010001',\n",
      "                                           'sender_address': '30819f300d06092a864886f70d010101050003818d0030818902818100888fc7ec7413a13a1ccafd209e96980b58cfc45dd9f328fa0da2f4a9f666cc1dfa95e2f98579210674b11569709f7274a743b9fea861955640eb7afc1baf7b10f4a03e75038039ba57a33ebb27e003890cb983c8e6d7f120799a3ce03393acf8ec391dc8ebe6a9459ce7c8468810152f8898330eaa14a4acc494a425279684f90203010001',\n",
      "                                           'time_slot': '10/06/20 16:30:00 - '\n",
      "                                                        '10/06/20 17:00:00'},\n",
      "                            'signature': '5c6f611ace886b726c141ad1d9a3a713040bec692aea43a76f9e499ed5869c5a3a743c323d375c1eeb5d65f3e3929189f330543080675b076671e2df257c7d1dee85e88611e960447c7e80d342240af9c06d8a5daa913e68862ea8c25a0c97c18ad7ec7c98dd0d33cf78284b13997c08815e0e07d9dbe09ff30feb979223ed28'}]}\n"
     ]
    }
   ],
   "source": [
    "response = show_trans(b3)\n",
    "pp.pprint(response)"
   ]
  },
  {
   "cell_type": "markdown",
   "metadata": {},
   "source": [
    "## Mine New Block and Update Chain"
   ]
  },
  {
   "cell_type": "code",
   "execution_count": 549,
   "metadata": {},
   "outputs": [
    {
     "name": "stdout",
     "output_type": "stream",
     "text": [
      "{   'Message': 'Congrats! You just mined a block.',\n",
      "    'index': 3,\n",
      "    'previous_hash': '7b681966c8adf8ed14c27298dd6cc47783ba0b7d92d07e8ac726fab030555978',\n",
      "    'proof': 45293,\n",
      "    'timestamp': '2020-06-09 23:25:00.451930',\n",
      "    'transactions': [   {   'message': {   'amount': 0.5,\n",
      "                                           'host_address': '30819f300d06092a864886f70d010101050003818d00308189028181009b88a7bc94eb3c268bdef83b04bfd4b866a332de46a692eddcd12958e24a5ed29b7c18254686a3193668be69cea616361203efe61a3356f545c417c694ccc875c0d7eb174c86be0f23940c21cd707b451152249becbdbd9875a58e98e375ac0ed738254ba6c2a03d780fe38b457f82eefecae230b161618e04ba32f811de07150203010001',\n",
      "                                           'sender_address': '30819f300d06092a864886f70d010101050003818d0030818902818100888fc7ec7413a13a1ccafd209e96980b58cfc45dd9f328fa0da2f4a9f666cc1dfa95e2f98579210674b11569709f7274a743b9fea861955640eb7afc1baf7b10f4a03e75038039ba57a33ebb27e003890cb983c8e6d7f120799a3ce03393acf8ec391dc8ebe6a9459ce7c8468810152f8898330eaa14a4acc494a425279684f90203010001',\n",
      "                                           'time_slot': '10/06/20 16:30:00 - '\n",
      "                                                        '10/06/20 17:00:00'},\n",
      "                            'signature': '5c6f611ace886b726c141ad1d9a3a713040bec692aea43a76f9e499ed5869c5a3a743c323d375c1eeb5d65f3e3929189f330543080675b076671e2df257c7d1dee85e88611e960447c7e80d342240af9c06d8a5daa913e68862ea8c25a0c97c18ad7ec7c98dd0d33cf78284b13997c08815e0e07d9dbe09ff30feb979223ed28'},\n",
      "                        {   'message': {   'amount': -1,\n",
      "                                           'host_address': '30819f300d06092a864886f70d010101050003818d0030818902818100d3157e370a327642bdbab3d1dd1e16ba1403e6a10dd216ee3e3d1a2ca6f1170e5397ae1429c8de7dd7e307d7139462cbc44ace0a560e499daca3add04c50a0a82be278fec62c67a7d7eec522c204e987d3aee430bbe43fde6fb42a7fccfa448a3898b31ca46f5b4c9b0750b7f10eaaf25429308c1b5b4738b136fb3c114ff8250203010001',\n",
      "                                           'sender_address': '30819f300d06092a864886f70d010101050003818d0030818902818100d3157e370a327642bdbab3d1dd1e16ba1403e6a10dd216ee3e3d1a2ca6f1170e5397ae1429c8de7dd7e307d7139462cbc44ace0a560e499daca3add04c50a0a82be278fec62c67a7d7eec522c204e987d3aee430bbe43fde6fb42a7fccfa448a3898b31ca46f5b4c9b0750b7f10eaaf25429308c1b5b4738b136fb3c114ff8250203010001',\n",
      "                                           'time_slot': '00:00'},\n",
      "                            'signature': '5bb29b65783f19408039191189727fc28578c6acc79292ff7d195865460ff2c247cfa90aa0f030c228920501226d801d710567a2a424874e2c885a10defd80fb3f8b1bdcd53a8028ea3e34211fbe147ad126a27bcce653b943f208d97c17ded1f25a7369f8e45e017a6059c1cc0233f4c2de878b8dd7727a813f38edeece19bd'}]}\n"
     ]
    }
   ],
   "source": [
    "response = mine_block(w2, b2)\n",
    "pp.pprint(response)"
   ]
  },
  {
   "cell_type": "code",
   "execution_count": 550,
   "metadata": {},
   "outputs": [],
   "source": [
    "response = replace_chain(b1)\n",
    "response = replace_chain(b2)\n",
    "response = replace_chain(b3)"
   ]
  },
  {
   "cell_type": "markdown",
   "metadata": {},
   "source": [
    "## Show Booked Appointments"
   ]
  },
  {
   "cell_type": "code",
   "execution_count": 551,
   "metadata": {},
   "outputs": [
    {
     "name": "stdout",
     "output_type": "stream",
     "text": [
      "{   'Appointments': ['10/06/20 16:30:00 - 10/06/20 17:00:00'],\n",
      "    'Message': 'Showing booked appointments'}\n"
     ]
    }
   ],
   "source": [
    "response = show_appointments(w3,b3)\n",
    "pp.pprint(response)"
   ]
  },
  {
   "cell_type": "code",
   "execution_count": null,
   "metadata": {},
   "outputs": [],
   "source": []
  }
 ],
 "metadata": {
  "kernelspec": {
   "display_name": "Python 3",
   "language": "python",
   "name": "python3"
  },
  "language_info": {
   "codemirror_mode": {
    "name": "ipython",
    "version": 3
   },
   "file_extension": ".py",
   "mimetype": "text/x-python",
   "name": "python",
   "nbconvert_exporter": "python",
   "pygments_lexer": "ipython3",
   "version": "3.8.2"
  }
 },
 "nbformat": 4,
 "nbformat_minor": 4
}
